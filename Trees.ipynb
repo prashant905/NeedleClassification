{
 "cells": [
  {
   "cell_type": "code",
   "execution_count": 2,
   "metadata": {},
   "outputs": [],
   "source": [
    "class Node(object):\n",
    "    def __init__(self, value):\n",
    "        self.value = value\n",
    "        self.left = None\n",
    "        self.right = None\n",
    "        \n",
    "class BinaryTree(object):\n",
    "    def __init__(self, root):\n",
    "        self.root = Node(root)\n",
    "\n",
    "    def search(self, find_val):\n",
    "        return self.preorder_search(tree.root, find_val)\n",
    "\n",
    "    def print_tree(self):\n",
    "        return self.preorder_print(tree.root, \"\")[:-1]\n",
    "\n",
    "    def preorder_search(self, start, find_val):\n",
    "        if start:\n",
    "            if start.value == find_val:\n",
    "                return True\n",
    "            else:\n",
    "                return self.preorder_search(start.left, find_val) or self.preorder_search(start.right, find_val)\n",
    "        return False\n",
    "\n",
    "    def preorder_print(self, start, traversal):\n",
    "        if start:\n",
    "            traversal += (str(start.value) + \"-\")\n",
    "            traversal = self.preorder_print(start.left, traversal)\n",
    "            traversal = self.preorder_print(start.right, traversal)\n",
    "        return traversal"
   ]
  },
  {
   "cell_type": "code",
   "execution_count": 4,
   "metadata": {},
   "outputs": [
    {
     "name": "stdout",
     "output_type": "stream",
     "text": [
      "True\n",
      "False\n",
      "1-2-4-5-3\n"
     ]
    }
   ],
   "source": [
    "# Set up tree\n",
    "tree = BinaryTree(1)\n",
    "tree.root.left = Node(2)\n",
    "tree.root.right = Node(3)\n",
    "tree.root.left.left = Node(4)\n",
    "tree.root.left.right = Node(5)\n",
    "\n",
    "# Test search\n",
    "# Should be True\n",
    "print (tree.search(4))\n",
    "# Should be False\n",
    "print (tree.search(6))\n",
    "\n",
    "# Test print_tree\n",
    "# Should be 1-2-4-5-3\n",
    "print (tree.print_tree())"
   ]
  },
  {
   "cell_type": "code",
   "execution_count": 1,
   "metadata": {},
   "outputs": [],
   "source": [
    "###Binary Search trees\n",
    "class Node(object):\n",
    "    def __init__(self, value):\n",
    "        self.value = value\n",
    "        self.left = None\n",
    "        self.right = None\n",
    "        \n",
    "class BST(object):\n",
    "    def __init__(self, root):\n",
    "        self.root = Node(root)\n",
    "\n",
    "    def insert(self, new_val):\n",
    "        self.insert_helper(self.root, new_val)\n",
    "\n",
    "    def insert_helper(self, current, new_val):\n",
    "        if current.value < new_val:\n",
    "            if current.right:\n",
    "                self.insert_helper(current.right, new_val)\n",
    "            else:\n",
    "                current.right = Node(new_val)\n",
    "        else:\n",
    "            if current.left:\n",
    "                self.insert_helper(current.left, new_val)\n",
    "            else:\n",
    "                current.left = Node(new_val)\n",
    "\n",
    "    def search(self, find_val):\n",
    "        return self.search_helper(self.root, find_val)\n",
    "\n",
    "    def search_helper(self, current, find_val):\n",
    "        if current:\n",
    "            if current.value == find_val:\n",
    "                return True\n",
    "            elif current.value < find_val:\n",
    "                return self.search_helper(current.right, find_val)\n",
    "            else:\n",
    "                return self.search_helper(current.left, find_val)\n",
    "        return False"
   ]
  },
  {
   "cell_type": "code",
   "execution_count": 8,
   "metadata": {},
   "outputs": [
    {
     "name": "stdout",
     "output_type": "stream",
     "text": [
      "True\n",
      "False\n"
     ]
    }
   ],
   "source": [
    "tree = BST(4)\n",
    "\n",
    "# Insert elements\n",
    "tree.insert(2)\n",
    "tree.insert(1)\n",
    "tree.insert(3)\n",
    "tree.insert(5)\n",
    "\n",
    "# Check search\n",
    "# Should be True\n",
    "print (tree.search(4))\n",
    "# Should be False\n",
    "print (tree.search(6))"
   ]
  },
  {
   "cell_type": "code",
   "execution_count": 55,
   "metadata": {},
   "outputs": [],
   "source": [
    "def anagram(string1, string2):\n",
    "    if len(string1) != len(string2):\n",
    "        return 'not an anagram'\n",
    "    for x in string1:\n",
    "        if x not in string2:\n",
    "            print('its not an anagram')\n",
    "        else:\n",
    "            print(\"its an anagram\")\n",
    "    return   "
   ]
  },
  {
   "cell_type": "code",
   "execution_count": 8,
   "metadata": {},
   "outputs": [],
   "source": [
    "class BinaryTree:\n",
    "    def __init__(self, value):\n",
    "        self.value = value\n",
    "        self.left_child = None\n",
    "        self.right_child = None\n",
    "        \n",
    "    def insert_left(self, value):\n",
    "        if self.left_child == None:\n",
    "            self.left_child = BinaryTree(value)\n",
    "        else:\n",
    "            new_node = BinaryTree(value)\n",
    "            new_node.left_child = self.left_child\n",
    "            self.left_child = new_node\n",
    "    \n",
    "    def insert_right(self, value):\n",
    "        if self.right_child == None:\n",
    "            self.right_child = BinaryTree(value)\n",
    "        else:\n",
    "            new_node = BinaryTree(value)\n",
    "            new_node.right_child = self.right_child\n",
    "            self.right_child = new_node"
   ]
  },
  {
   "cell_type": "code",
   "execution_count": 31,
   "metadata": {},
   "outputs": [],
   "source": [
    "## Binary Seach tree\n",
    "class BinarySearchTree:\n",
    "    def __init__(self, value):\n",
    "        self.value = value\n",
    "        self.left_child = None\n",
    "        self.right_child = None\n",
    "\n",
    "    def insert_node(self, value):\n",
    "        if value <= self.value and self.left_child:\n",
    "            self.left_child.insert_node(value)\n",
    "        elif value <= self.value:\n",
    "            self.left_child = BinarySearchTree(value)\n",
    "        elif value > self.value and self.right_child:\n",
    "            self.right_child.insert_node(value)\n",
    "        else:\n",
    "            self.right_child = BinarySearchTree(value)\n",
    "    \n",
    "    def find_node(self, value):\n",
    "        if value < self.value and self.left_child:\n",
    "            return self.left_child.find_node(value)\n",
    "        if value > self.value and self.right_child:\n",
    "            return self.right_child.find_node(value)\n",
    "\n",
    "        return value == self.value\n",
    "    \n",
    "    def remove_node(self, value, parent):\n",
    "        if value < self.value and self.left_child:\n",
    "            return self.left_child.remove_node(value, self)\n",
    "        elif value < self.value:\n",
    "            return False\n",
    "        elif value > self.value and self.right_child:\n",
    "            return self.right_child.remove_node(value, self)\n",
    "        elif value > self.value:\n",
    "            return False\n",
    "        else:\n",
    "            if self.left_child is None and self.right_child is None and self == parent.left_child:\n",
    "                parent.left_child = None\n",
    "                self.clear_node()\n",
    "            elif self.left_child is None and self.right_child is None and self == parent.right_child:\n",
    "                parent.right_child = None\n",
    "                self.clear_node()\n",
    "            elif self.left_child and self.right_child is None and self == parent.left_child:\n",
    "                parent.left_child = self.left_child\n",
    "                self.clear_node()\n",
    "            elif self.left_child and self.right_child is None and self == parent.right_child:\n",
    "                parent.right_child = self.left_child\n",
    "                self.clear_node()\n",
    "            elif self.right_child and self.left_child is None and self == parent.left_child:\n",
    "                parent.left_child = self.right_child\n",
    "                self.clear_node()\n",
    "            elif self.right_child and self.left_child is None and self == parent.right_child:\n",
    "                parent.right_child = self.right_child\n",
    "                self.clear_node()\n",
    "            else:\n",
    "                self.value = self.right_child.find_minimum_value()\n",
    "                self.right_child.remove_node(self.value, self)\n",
    "\n",
    "            return True\n",
    "    def find_minimum_value(self):\n",
    "        if self.left_child:\n",
    "            return self.left_child.find_minimum_value()\n",
    "        else:\n",
    "            return self.value\n",
    "        \n",
    "    def clear_node(self):\n",
    "        self.value = None\n",
    "        self.left_child = None\n",
    "        self.right_child = None\n",
    "    \n",
    "    def pre_order(self):\n",
    "        print(self.value)\n",
    "\n",
    "        if self.left_child:\n",
    "            self.left_child.pre_order()\n",
    "\n",
    "        if self.right_child:\n",
    "            self.right_child.pre_order()"
   ]
  },
  {
   "cell_type": "code",
   "execution_count": 32,
   "metadata": {},
   "outputs": [],
   "source": [
    "bst = BinarySearchTree(15)\n",
    "bst.insert_node(10)\n",
    "bst.insert_node(8)\n",
    "bst.insert_node(12)\n",
    "bst.insert_node(20)\n",
    "bst.insert_node(17)\n",
    "bst.insert_node(25)\n",
    "bst.insert_node(19)"
   ]
  },
  {
   "cell_type": "code",
   "execution_count": 33,
   "metadata": {},
   "outputs": [
    {
     "name": "stdout",
     "output_type": "stream",
     "text": [
      "True\n"
     ]
    },
    {
     "ename": "AttributeError",
     "evalue": "'BinarySearchTree' object has no attribute 'pre_order_traversal'",
     "output_type": "error",
     "traceback": [
      "\u001b[0;31m\u001b[0m",
      "\u001b[0;31mAttributeError\u001b[0mTraceback (most recent call last)",
      "\u001b[0;32m<ipython-input-33-917f2c5b9865>\u001b[0m in \u001b[0;36m<module>\u001b[0;34m()\u001b[0m\n\u001b[1;32m      1\u001b[0m \u001b[0mprint\u001b[0m\u001b[0;34m(\u001b[0m\u001b[0mbst\u001b[0m\u001b[0;34m.\u001b[0m\u001b[0mremove_node\u001b[0m\u001b[0;34m(\u001b[0m\u001b[0;36m8\u001b[0m\u001b[0;34m,\u001b[0m \u001b[0;32mNone\u001b[0m\u001b[0;34m)\u001b[0m\u001b[0;34m)\u001b[0m \u001b[0;31m# True\u001b[0m\u001b[0;34m\u001b[0m\u001b[0m\n\u001b[0;32m----> 2\u001b[0;31m \u001b[0mbst\u001b[0m\u001b[0;34m.\u001b[0m\u001b[0mpre_order_traversal\u001b[0m\u001b[0;34m(\u001b[0m\u001b[0;34m)\u001b[0m\u001b[0;34m\u001b[0m\u001b[0m\n\u001b[0m",
      "\u001b[0;31mAttributeError\u001b[0m: 'BinarySearchTree' object has no attribute 'pre_order_traversal'"
     ]
    }
   ],
   "source": [
    "print(bst.remove_node(8, None)) # True\n",
    "bst.pre_order_traversal()"
   ]
  },
  {
   "cell_type": "code",
   "execution_count": 9,
   "metadata": {},
   "outputs": [
    {
     "name": "stdout",
     "output_type": "stream",
     "text": [
      "a\n",
      "b\n",
      "c\n",
      "d\n",
      "e\n"
     ]
    }
   ],
   "source": [
    "a_node = BinaryTree('a')\n",
    "a_node.insert_left('b')\n",
    "a_node.insert_right('c')\n",
    "\n",
    "b_node = a_node.left_child\n",
    "b_node.insert_right('d')\n",
    "\n",
    "c_node = a_node.right_child\n",
    "c_node.insert_left('e')\n",
    "c_node.insert_right('f')\n",
    "\n",
    "d_node = b_node.right_child\n",
    "e_node = c_node.left_child\n",
    "f_node = c_node.right_child\n",
    "\n",
    "print(a_node.value) # a\n",
    "print(b_node.value) # b\n",
    "print(c_node.value) # c\n",
    "print(d_node.value) # d\n",
    "print(e_node.value) # e"
   ]
  }
 ],
 "metadata": {
  "kernelspec": {
   "display_name": "Python 3",
   "language": "python",
   "name": "python3"
  },
  "language_info": {
   "codemirror_mode": {
    "name": "ipython",
    "version": 3
   },
   "file_extension": ".py",
   "mimetype": "text/x-python",
   "name": "python",
   "nbconvert_exporter": "python",
   "pygments_lexer": "ipython3",
   "version": "3.6.5"
  }
 },
 "nbformat": 4,
 "nbformat_minor": 2
}
